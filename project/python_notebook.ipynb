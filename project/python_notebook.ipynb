{
 "cells": [
  {
   "cell_type": "code",
   "execution_count": 12,
   "metadata": {},
   "outputs": [],
   "source": [
    "import pandas as pd\n",
    "import seaborn as sns\n",
    "import numpy as np\n",
    "import statistics\n",
    "import matplotlib.pyplot as plt"
   ]
  },
  {
   "cell_type": "markdown",
   "metadata": {},
   "source": [
    "# Importing Data Sets"
   ]
  },
  {
   "cell_type": "markdown",
   "metadata": {},
   "source": [
    "## data.csv"
   ]
  },
  {
   "cell_type": "code",
   "execution_count": 9,
   "metadata": {},
   "outputs": [
    {
     "data": {
      "text/html": [
       "<div>\n",
       "<style scoped>\n",
       "    .dataframe tbody tr th:only-of-type {\n",
       "        vertical-align: middle;\n",
       "    }\n",
       "\n",
       "    .dataframe tbody tr th {\n",
       "        vertical-align: top;\n",
       "    }\n",
       "\n",
       "    .dataframe thead th {\n",
       "        text-align: right;\n",
       "    }\n",
       "</style>\n",
       "<table border=\"1\" class=\"dataframe\">\n",
       "  <thead>\n",
       "    <tr style=\"text-align: right;\">\n",
       "      <th></th>\n",
       "      <th>acousticness</th>\n",
       "      <th>artists</th>\n",
       "      <th>danceability</th>\n",
       "      <th>duration_ms</th>\n",
       "      <th>energy</th>\n",
       "      <th>explicit</th>\n",
       "      <th>id</th>\n",
       "      <th>instrumentalness</th>\n",
       "      <th>key</th>\n",
       "      <th>liveness</th>\n",
       "      <th>loudness</th>\n",
       "      <th>mode</th>\n",
       "      <th>name</th>\n",
       "      <th>popularity</th>\n",
       "      <th>release_date</th>\n",
       "      <th>speechiness</th>\n",
       "      <th>tempo</th>\n",
       "      <th>valence</th>\n",
       "      <th>year</th>\n",
       "    </tr>\n",
       "  </thead>\n",
       "  <tbody>\n",
       "    <tr>\n",
       "      <th>0</th>\n",
       "      <td>0.995</td>\n",
       "      <td>['Carl Woitschach']</td>\n",
       "      <td>0.708</td>\n",
       "      <td>158648</td>\n",
       "      <td>0.1950</td>\n",
       "      <td>0</td>\n",
       "      <td>6KbQ3uYMLKb5jDxLF7wYDD</td>\n",
       "      <td>0.563</td>\n",
       "      <td>10</td>\n",
       "      <td>0.1510</td>\n",
       "      <td>-12.428</td>\n",
       "      <td>1</td>\n",
       "      <td>Singende Bataillone 1. Teil</td>\n",
       "      <td>0</td>\n",
       "      <td>1928</td>\n",
       "      <td>0.0506</td>\n",
       "      <td>118.469</td>\n",
       "      <td>0.7790</td>\n",
       "      <td>1928</td>\n",
       "    </tr>\n",
       "    <tr>\n",
       "      <th>1</th>\n",
       "      <td>0.994</td>\n",
       "      <td>['Robert Schumann', 'Vladimir Horowitz']</td>\n",
       "      <td>0.379</td>\n",
       "      <td>282133</td>\n",
       "      <td>0.0135</td>\n",
       "      <td>0</td>\n",
       "      <td>6KuQTIu1KoTTkLXKrwlLPV</td>\n",
       "      <td>0.901</td>\n",
       "      <td>8</td>\n",
       "      <td>0.0763</td>\n",
       "      <td>-28.454</td>\n",
       "      <td>1</td>\n",
       "      <td>Fantasiestücke, Op. 111: Più tosto lento</td>\n",
       "      <td>0</td>\n",
       "      <td>1928</td>\n",
       "      <td>0.0462</td>\n",
       "      <td>83.972</td>\n",
       "      <td>0.0767</td>\n",
       "      <td>1928</td>\n",
       "    </tr>\n",
       "    <tr>\n",
       "      <th>2</th>\n",
       "      <td>0.604</td>\n",
       "      <td>['Seweryn Goszczyński']</td>\n",
       "      <td>0.749</td>\n",
       "      <td>104300</td>\n",
       "      <td>0.2200</td>\n",
       "      <td>0</td>\n",
       "      <td>6L63VW0PibdM1HDSBoqnoM</td>\n",
       "      <td>0.000</td>\n",
       "      <td>5</td>\n",
       "      <td>0.1190</td>\n",
       "      <td>-19.924</td>\n",
       "      <td>0</td>\n",
       "      <td>Chapter 1.18 - Zamek kaniowski</td>\n",
       "      <td>0</td>\n",
       "      <td>1928</td>\n",
       "      <td>0.9290</td>\n",
       "      <td>107.177</td>\n",
       "      <td>0.8800</td>\n",
       "      <td>1928</td>\n",
       "    </tr>\n",
       "    <tr>\n",
       "      <th>3</th>\n",
       "      <td>0.995</td>\n",
       "      <td>['Francisco Canaro']</td>\n",
       "      <td>0.781</td>\n",
       "      <td>180760</td>\n",
       "      <td>0.1300</td>\n",
       "      <td>0</td>\n",
       "      <td>6M94FkXd15sOAOQYRnWPN8</td>\n",
       "      <td>0.887</td>\n",
       "      <td>1</td>\n",
       "      <td>0.1110</td>\n",
       "      <td>-14.734</td>\n",
       "      <td>0</td>\n",
       "      <td>Bebamos Juntos - Instrumental (Remasterizado)</td>\n",
       "      <td>0</td>\n",
       "      <td>1928-09-25</td>\n",
       "      <td>0.0926</td>\n",
       "      <td>108.003</td>\n",
       "      <td>0.7200</td>\n",
       "      <td>1928</td>\n",
       "    </tr>\n",
       "    <tr>\n",
       "      <th>4</th>\n",
       "      <td>0.990</td>\n",
       "      <td>['Frédéric Chopin', 'Vladimir Horowitz']</td>\n",
       "      <td>0.210</td>\n",
       "      <td>687733</td>\n",
       "      <td>0.2040</td>\n",
       "      <td>0</td>\n",
       "      <td>6N6tiFZ9vLTSOIxkj8qKrd</td>\n",
       "      <td>0.908</td>\n",
       "      <td>11</td>\n",
       "      <td>0.0980</td>\n",
       "      <td>-16.829</td>\n",
       "      <td>1</td>\n",
       "      <td>Polonaise-Fantaisie in A-Flat Major, Op. 61</td>\n",
       "      <td>1</td>\n",
       "      <td>1928</td>\n",
       "      <td>0.0424</td>\n",
       "      <td>62.149</td>\n",
       "      <td>0.0693</td>\n",
       "      <td>1928</td>\n",
       "    </tr>\n",
       "  </tbody>\n",
       "</table>\n",
       "</div>"
      ],
      "text/plain": [
       "   acousticness                                   artists  danceability  \\\n",
       "0         0.995                       ['Carl Woitschach']         0.708   \n",
       "1         0.994  ['Robert Schumann', 'Vladimir Horowitz']         0.379   \n",
       "2         0.604                   ['Seweryn Goszczyński']         0.749   \n",
       "3         0.995                      ['Francisco Canaro']         0.781   \n",
       "4         0.990  ['Frédéric Chopin', 'Vladimir Horowitz']         0.210   \n",
       "\n",
       "   duration_ms  energy  explicit                      id  instrumentalness  \\\n",
       "0       158648  0.1950         0  6KbQ3uYMLKb5jDxLF7wYDD             0.563   \n",
       "1       282133  0.0135         0  6KuQTIu1KoTTkLXKrwlLPV             0.901   \n",
       "2       104300  0.2200         0  6L63VW0PibdM1HDSBoqnoM             0.000   \n",
       "3       180760  0.1300         0  6M94FkXd15sOAOQYRnWPN8             0.887   \n",
       "4       687733  0.2040         0  6N6tiFZ9vLTSOIxkj8qKrd             0.908   \n",
       "\n",
       "   key  liveness  loudness  mode  \\\n",
       "0   10    0.1510   -12.428     1   \n",
       "1    8    0.0763   -28.454     1   \n",
       "2    5    0.1190   -19.924     0   \n",
       "3    1    0.1110   -14.734     0   \n",
       "4   11    0.0980   -16.829     1   \n",
       "\n",
       "                                            name  popularity release_date  \\\n",
       "0                    Singende Bataillone 1. Teil           0         1928   \n",
       "1       Fantasiestücke, Op. 111: Più tosto lento           0         1928   \n",
       "2                 Chapter 1.18 - Zamek kaniowski           0         1928   \n",
       "3  Bebamos Juntos - Instrumental (Remasterizado)           0   1928-09-25   \n",
       "4    Polonaise-Fantaisie in A-Flat Major, Op. 61           1         1928   \n",
       "\n",
       "   speechiness    tempo  valence  year  \n",
       "0       0.0506  118.469   0.7790  1928  \n",
       "1       0.0462   83.972   0.0767  1928  \n",
       "2       0.9290  107.177   0.8800  1928  \n",
       "3       0.0926  108.003   0.7200  1928  \n",
       "4       0.0424   62.149   0.0693  1928  "
      ]
     },
     "execution_count": 9,
     "metadata": {},
     "output_type": "execute_result"
    }
   ],
   "source": [
    "data = pd.read_csv('data.csv')\n",
    "data.head()"
   ]
  },
  {
   "cell_type": "code",
   "execution_count": 10,
   "metadata": {},
   "outputs": [
    {
     "name": "stdout",
     "output_type": "stream",
     "text": [
      "<class 'pandas.core.frame.DataFrame'>\n",
      "RangeIndex: 169909 entries, 0 to 169908\n",
      "Data columns (total 19 columns):\n",
      " #   Column            Non-Null Count   Dtype  \n",
      "---  ------            --------------   -----  \n",
      " 0   acousticness      169909 non-null  float64\n",
      " 1   artists           169909 non-null  object \n",
      " 2   danceability      169909 non-null  float64\n",
      " 3   duration_ms       169909 non-null  int64  \n",
      " 4   energy            169909 non-null  float64\n",
      " 5   explicit          169909 non-null  int64  \n",
      " 6   id                169909 non-null  object \n",
      " 7   instrumentalness  169909 non-null  float64\n",
      " 8   key               169909 non-null  int64  \n",
      " 9   liveness          169909 non-null  float64\n",
      " 10  loudness          169909 non-null  float64\n",
      " 11  mode              169909 non-null  int64  \n",
      " 12  name              169909 non-null  object \n",
      " 13  popularity        169909 non-null  int64  \n",
      " 14  release_date      169909 non-null  object \n",
      " 15  speechiness       169909 non-null  float64\n",
      " 16  tempo             169909 non-null  float64\n",
      " 17  valence           169909 non-null  float64\n",
      " 18  year              169909 non-null  int64  \n",
      "dtypes: float64(9), int64(6), object(4)\n",
      "memory usage: 24.6+ MB\n"
     ]
    }
   ],
   "source": [
    "data.info()"
   ]
  },
  {
   "cell_type": "markdown",
   "metadata": {},
   "source": [
    "# Cleaning Data"
   ]
  },
  {
   "cell_type": "code",
   "execution_count": 3,
   "metadata": {},
   "outputs": [
    {
     "name": "stdout",
     "output_type": "stream",
     "text": [
      "<class 'pandas.core.frame.DataFrame'>\n",
      "Int64Index: 169909 entries, 0 to 169908\n",
      "Data columns (total 19 columns):\n",
      " #   Column            Non-Null Count   Dtype  \n",
      "---  ------            --------------   -----  \n",
      " 0   acousticness      169909 non-null  float64\n",
      " 1   artists           169909 non-null  object \n",
      " 2   danceability      169909 non-null  float64\n",
      " 3   duration_ms       169909 non-null  int64  \n",
      " 4   energy            169909 non-null  float64\n",
      " 5   explicit          169909 non-null  int64  \n",
      " 6   id                169909 non-null  object \n",
      " 7   instrumentalness  169909 non-null  float64\n",
      " 8   key               169909 non-null  int64  \n",
      " 9   liveness          169909 non-null  float64\n",
      " 10  loudness          169909 non-null  float64\n",
      " 11  mode              169909 non-null  int64  \n",
      " 12  name              169909 non-null  object \n",
      " 13  popularity        169909 non-null  int64  \n",
      " 14  release_date      169909 non-null  object \n",
      " 15  speechiness       169909 non-null  float64\n",
      " 16  tempo             169909 non-null  float64\n",
      " 17  valence           169909 non-null  float64\n",
      " 18  year              169909 non-null  int64  \n",
      "dtypes: float64(9), int64(6), object(4)\n",
      "memory usage: 25.9+ MB\n"
     ]
    }
   ],
   "source": [
    "# dropping the Nan from the column year to clean the data set up\n",
    "data = data.dropna(subset = [\"year\"])\n",
    "\n",
    "data.info()"
   ]
  },
  {
   "cell_type": "code",
   "execution_count": 14,
   "metadata": {},
   "outputs": [
    {
     "name": "stdout",
     "output_type": "stream",
     "text": [
      "<class 'pandas.core.frame.DataFrame'>\n",
      "Int64Index: 130253 entries, 0 to 167908\n",
      "Data columns (total 19 columns):\n",
      " #   Column            Non-Null Count   Dtype  \n",
      "---  ------            --------------   -----  \n",
      " 0   acousticness      130253 non-null  float64\n",
      " 1   artists           130253 non-null  object \n",
      " 2   danceability      130253 non-null  float64\n",
      " 3   duration_ms       130253 non-null  int64  \n",
      " 4   energy            130253 non-null  float64\n",
      " 5   explicit          130253 non-null  int64  \n",
      " 6   id                130253 non-null  object \n",
      " 7   instrumentalness  130253 non-null  float64\n",
      " 8   key               130253 non-null  int64  \n",
      " 9   liveness          130253 non-null  float64\n",
      " 10  loudness          130253 non-null  float64\n",
      " 11  mode              130253 non-null  int64  \n",
      " 12  name              130253 non-null  object \n",
      " 13  popularity        130253 non-null  int64  \n",
      " 14  release_date      130253 non-null  object \n",
      " 15  speechiness       130253 non-null  float64\n",
      " 16  tempo             130253 non-null  float64\n",
      " 17  valence           130253 non-null  float64\n",
      " 18  year              130253 non-null  int64  \n",
      "dtypes: float64(9), int64(6), object(4)\n",
      "memory usage: 19.9+ MB\n"
     ]
    }
   ],
   "source": [
    " #setting the start and end dates for scaling the data set for songs BEFORE the 21st century\n",
    "start_date = 0\n",
    "end_date = 2000\n",
    "\n",
    "after_start_date = data[\"year\"] >= start_date\n",
    "before_end_date = data[\"year\"] <= end_date\n",
    "between_two_dates = after_start_date & before_end_date\n",
    "before_twentyfirst_century = data.loc[between_two_dates]\n",
    "\n",
    "before_twentyfirst_century.info()"
   ]
  },
  {
   "cell_type": "code",
   "execution_count": 13,
   "metadata": {},
   "outputs": [
    {
     "name": "stdout",
     "output_type": "stream",
     "text": [
      "<class 'pandas.core.frame.DataFrame'>\n",
      "Int64Index: 39656 entries, 6154 to 169908\n",
      "Data columns (total 19 columns):\n",
      " #   Column            Non-Null Count  Dtype  \n",
      "---  ------            --------------  -----  \n",
      " 0   acousticness      39656 non-null  float64\n",
      " 1   artists           39656 non-null  object \n",
      " 2   danceability      39656 non-null  float64\n",
      " 3   duration_ms       39656 non-null  int64  \n",
      " 4   energy            39656 non-null  float64\n",
      " 5   explicit          39656 non-null  int64  \n",
      " 6   id                39656 non-null  object \n",
      " 7   instrumentalness  39656 non-null  float64\n",
      " 8   key               39656 non-null  int64  \n",
      " 9   liveness          39656 non-null  float64\n",
      " 10  loudness          39656 non-null  float64\n",
      " 11  mode              39656 non-null  int64  \n",
      " 12  name              39656 non-null  object \n",
      " 13  popularity        39656 non-null  int64  \n",
      " 14  release_date      39656 non-null  object \n",
      " 15  speechiness       39656 non-null  float64\n",
      " 16  tempo             39656 non-null  float64\n",
      " 17  valence           39656 non-null  float64\n",
      " 18  year              39656 non-null  int64  \n",
      "dtypes: float64(9), int64(6), object(4)\n",
      "memory usage: 6.1+ MB\n"
     ]
    }
   ],
   "source": [
    " #setting the start and end dates for scaling the data set for songs AFTER the 21st century\n",
    "start_date = 2001\n",
    "end_date = 2020\n",
    "\n",
    "after_start_date = data[\"year\"] >= start_date\n",
    "before_end_date = data[\"year\"] <= end_date\n",
    "between_two_dates = after_start_date & before_end_date\n",
    "after_twentyfirst_century = data.loc[between_two_dates]\n",
    "\n",
    "after_twentyfirst_century.info()"
   ]
  },
  {
   "cell_type": "code",
   "execution_count": 6,
   "metadata": {},
   "outputs": [
    {
     "data": {
      "text/html": [
       "<div>\n",
       "<style scoped>\n",
       "    .dataframe tbody tr th:only-of-type {\n",
       "        vertical-align: middle;\n",
       "    }\n",
       "\n",
       "    .dataframe tbody tr th {\n",
       "        vertical-align: top;\n",
       "    }\n",
       "\n",
       "    .dataframe thead th {\n",
       "        text-align: right;\n",
       "    }\n",
       "</style>\n",
       "<table border=\"1\" class=\"dataframe\">\n",
       "  <thead>\n",
       "    <tr style=\"text-align: right;\">\n",
       "      <th></th>\n",
       "      <th>acousticness</th>\n",
       "      <th>artists</th>\n",
       "      <th>danceability</th>\n",
       "      <th>duration_ms</th>\n",
       "      <th>energy</th>\n",
       "      <th>explicit</th>\n",
       "      <th>id</th>\n",
       "      <th>instrumentalness</th>\n",
       "      <th>key</th>\n",
       "      <th>liveness</th>\n",
       "      <th>loudness</th>\n",
       "      <th>mode</th>\n",
       "      <th>name</th>\n",
       "      <th>popularity</th>\n",
       "      <th>release_date</th>\n",
       "      <th>speechiness</th>\n",
       "      <th>tempo</th>\n",
       "      <th>valence</th>\n",
       "      <th>year</th>\n",
       "      <th>years_split</th>\n",
       "    </tr>\n",
       "  </thead>\n",
       "  <tbody>\n",
       "    <tr>\n",
       "      <th>0</th>\n",
       "      <td>0.995</td>\n",
       "      <td>['Carl Woitschach']</td>\n",
       "      <td>0.708</td>\n",
       "      <td>158648</td>\n",
       "      <td>0.1950</td>\n",
       "      <td>0</td>\n",
       "      <td>6KbQ3uYMLKb5jDxLF7wYDD</td>\n",
       "      <td>0.563</td>\n",
       "      <td>10</td>\n",
       "      <td>0.1510</td>\n",
       "      <td>-12.428</td>\n",
       "      <td>1</td>\n",
       "      <td>Singende Bataillone 1. Teil</td>\n",
       "      <td>0</td>\n",
       "      <td>1928</td>\n",
       "      <td>0.0506</td>\n",
       "      <td>118.469</td>\n",
       "      <td>0.7790</td>\n",
       "      <td>1928</td>\n",
       "      <td>before_21st_century</td>\n",
       "    </tr>\n",
       "    <tr>\n",
       "      <th>1</th>\n",
       "      <td>0.994</td>\n",
       "      <td>['Robert Schumann', 'Vladimir Horowitz']</td>\n",
       "      <td>0.379</td>\n",
       "      <td>282133</td>\n",
       "      <td>0.0135</td>\n",
       "      <td>0</td>\n",
       "      <td>6KuQTIu1KoTTkLXKrwlLPV</td>\n",
       "      <td>0.901</td>\n",
       "      <td>8</td>\n",
       "      <td>0.0763</td>\n",
       "      <td>-28.454</td>\n",
       "      <td>1</td>\n",
       "      <td>Fantasiestücke, Op. 111: Più tosto lento</td>\n",
       "      <td>0</td>\n",
       "      <td>1928</td>\n",
       "      <td>0.0462</td>\n",
       "      <td>83.972</td>\n",
       "      <td>0.0767</td>\n",
       "      <td>1928</td>\n",
       "      <td>before_21st_century</td>\n",
       "    </tr>\n",
       "    <tr>\n",
       "      <th>2</th>\n",
       "      <td>0.604</td>\n",
       "      <td>['Seweryn Goszczyński']</td>\n",
       "      <td>0.749</td>\n",
       "      <td>104300</td>\n",
       "      <td>0.2200</td>\n",
       "      <td>0</td>\n",
       "      <td>6L63VW0PibdM1HDSBoqnoM</td>\n",
       "      <td>0.000</td>\n",
       "      <td>5</td>\n",
       "      <td>0.1190</td>\n",
       "      <td>-19.924</td>\n",
       "      <td>0</td>\n",
       "      <td>Chapter 1.18 - Zamek kaniowski</td>\n",
       "      <td>0</td>\n",
       "      <td>1928</td>\n",
       "      <td>0.9290</td>\n",
       "      <td>107.177</td>\n",
       "      <td>0.8800</td>\n",
       "      <td>1928</td>\n",
       "      <td>before_21st_century</td>\n",
       "    </tr>\n",
       "    <tr>\n",
       "      <th>3</th>\n",
       "      <td>0.995</td>\n",
       "      <td>['Francisco Canaro']</td>\n",
       "      <td>0.781</td>\n",
       "      <td>180760</td>\n",
       "      <td>0.1300</td>\n",
       "      <td>0</td>\n",
       "      <td>6M94FkXd15sOAOQYRnWPN8</td>\n",
       "      <td>0.887</td>\n",
       "      <td>1</td>\n",
       "      <td>0.1110</td>\n",
       "      <td>-14.734</td>\n",
       "      <td>0</td>\n",
       "      <td>Bebamos Juntos - Instrumental (Remasterizado)</td>\n",
       "      <td>0</td>\n",
       "      <td>1928-09-25</td>\n",
       "      <td>0.0926</td>\n",
       "      <td>108.003</td>\n",
       "      <td>0.7200</td>\n",
       "      <td>1928</td>\n",
       "      <td>before_21st_century</td>\n",
       "    </tr>\n",
       "    <tr>\n",
       "      <th>4</th>\n",
       "      <td>0.990</td>\n",
       "      <td>['Frédéric Chopin', 'Vladimir Horowitz']</td>\n",
       "      <td>0.210</td>\n",
       "      <td>687733</td>\n",
       "      <td>0.2040</td>\n",
       "      <td>0</td>\n",
       "      <td>6N6tiFZ9vLTSOIxkj8qKrd</td>\n",
       "      <td>0.908</td>\n",
       "      <td>11</td>\n",
       "      <td>0.0980</td>\n",
       "      <td>-16.829</td>\n",
       "      <td>1</td>\n",
       "      <td>Polonaise-Fantaisie in A-Flat Major, Op. 61</td>\n",
       "      <td>1</td>\n",
       "      <td>1928</td>\n",
       "      <td>0.0424</td>\n",
       "      <td>62.149</td>\n",
       "      <td>0.0693</td>\n",
       "      <td>1928</td>\n",
       "      <td>before_21st_century</td>\n",
       "    </tr>\n",
       "  </tbody>\n",
       "</table>\n",
       "</div>"
      ],
      "text/plain": [
       "   acousticness                                   artists  danceability  \\\n",
       "0         0.995                       ['Carl Woitschach']         0.708   \n",
       "1         0.994  ['Robert Schumann', 'Vladimir Horowitz']         0.379   \n",
       "2         0.604                   ['Seweryn Goszczyński']         0.749   \n",
       "3         0.995                      ['Francisco Canaro']         0.781   \n",
       "4         0.990  ['Frédéric Chopin', 'Vladimir Horowitz']         0.210   \n",
       "\n",
       "   duration_ms  energy  explicit                      id  instrumentalness  \\\n",
       "0       158648  0.1950         0  6KbQ3uYMLKb5jDxLF7wYDD             0.563   \n",
       "1       282133  0.0135         0  6KuQTIu1KoTTkLXKrwlLPV             0.901   \n",
       "2       104300  0.2200         0  6L63VW0PibdM1HDSBoqnoM             0.000   \n",
       "3       180760  0.1300         0  6M94FkXd15sOAOQYRnWPN8             0.887   \n",
       "4       687733  0.2040         0  6N6tiFZ9vLTSOIxkj8qKrd             0.908   \n",
       "\n",
       "   key  liveness  loudness  mode  \\\n",
       "0   10    0.1510   -12.428     1   \n",
       "1    8    0.0763   -28.454     1   \n",
       "2    5    0.1190   -19.924     0   \n",
       "3    1    0.1110   -14.734     0   \n",
       "4   11    0.0980   -16.829     1   \n",
       "\n",
       "                                            name  popularity release_date  \\\n",
       "0                    Singende Bataillone 1. Teil           0         1928   \n",
       "1       Fantasiestücke, Op. 111: Più tosto lento           0         1928   \n",
       "2                 Chapter 1.18 - Zamek kaniowski           0         1928   \n",
       "3  Bebamos Juntos - Instrumental (Remasterizado)           0   1928-09-25   \n",
       "4    Polonaise-Fantaisie in A-Flat Major, Op. 61           1         1928   \n",
       "\n",
       "   speechiness    tempo  valence  year          years_split  \n",
       "0       0.0506  118.469   0.7790  1928  before_21st_century  \n",
       "1       0.0462   83.972   0.0767  1928  before_21st_century  \n",
       "2       0.9290  107.177   0.8800  1928  before_21st_century  \n",
       "3       0.0926  108.003   0.7200  1928  before_21st_century  \n",
       "4       0.0424   62.149   0.0693  1928  before_21st_century  "
      ]
     },
     "execution_count": 6,
     "metadata": {},
     "output_type": "execute_result"
    }
   ],
   "source": [
    "# create a list of our conditions\n",
    "conditions = [\n",
    "    (data['year'] <= 2000),\n",
    "    (data['year'] >= 2001)\n",
    "    ]\n",
    "\n",
    "# create a list of the values we want to assign for each condition\n",
    "values = ['before_21st_century', 'after_21st_century']\n",
    "\n",
    "# create a new column and use np.select to assign values to it using our lists as arguments\n",
    "data['years_split'] = np.select(conditions, values)\n",
    "\n",
    "# display updated DataFrame\n",
    "data.head()"
   ]
  },
  {
   "cell_type": "code",
   "execution_count": 7,
   "metadata": {},
   "outputs": [
    {
     "data": {
      "text/html": [
       "<div>\n",
       "<style scoped>\n",
       "    .dataframe tbody tr th:only-of-type {\n",
       "        vertical-align: middle;\n",
       "    }\n",
       "\n",
       "    .dataframe tbody tr th {\n",
       "        vertical-align: top;\n",
       "    }\n",
       "\n",
       "    .dataframe thead th {\n",
       "        text-align: right;\n",
       "    }\n",
       "</style>\n",
       "<table border=\"1\" class=\"dataframe\">\n",
       "  <thead>\n",
       "    <tr style=\"text-align: right;\">\n",
       "      <th></th>\n",
       "      <th>acousticness</th>\n",
       "      <th>artists</th>\n",
       "      <th>danceability</th>\n",
       "      <th>duration_ms</th>\n",
       "      <th>energy</th>\n",
       "      <th>explicit</th>\n",
       "      <th>id</th>\n",
       "      <th>instrumentalness</th>\n",
       "      <th>key</th>\n",
       "      <th>liveness</th>\n",
       "      <th>loudness</th>\n",
       "      <th>mode</th>\n",
       "      <th>name</th>\n",
       "      <th>popularity</th>\n",
       "      <th>release_date</th>\n",
       "      <th>speechiness</th>\n",
       "      <th>tempo</th>\n",
       "      <th>valence</th>\n",
       "      <th>year</th>\n",
       "      <th>years_split</th>\n",
       "    </tr>\n",
       "  </thead>\n",
       "  <tbody>\n",
       "    <tr>\n",
       "      <th>0</th>\n",
       "      <td>0.995</td>\n",
       "      <td>['Carl Woitschach']</td>\n",
       "      <td>0.708</td>\n",
       "      <td>158648</td>\n",
       "      <td>0.1950</td>\n",
       "      <td>0</td>\n",
       "      <td>6KbQ3uYMLKb5jDxLF7wYDD</td>\n",
       "      <td>0.563</td>\n",
       "      <td>10</td>\n",
       "      <td>0.1510</td>\n",
       "      <td>-12.428</td>\n",
       "      <td>1</td>\n",
       "      <td>Singende Bataillone 1. Teil</td>\n",
       "      <td>0</td>\n",
       "      <td>1928</td>\n",
       "      <td>0.0506</td>\n",
       "      <td>118.469</td>\n",
       "      <td>0.7790</td>\n",
       "      <td>1928</td>\n",
       "      <td>before_21st_century</td>\n",
       "    </tr>\n",
       "    <tr>\n",
       "      <th>1</th>\n",
       "      <td>0.994</td>\n",
       "      <td>['Robert Schumann', 'Vladimir Horowitz']</td>\n",
       "      <td>0.379</td>\n",
       "      <td>282133</td>\n",
       "      <td>0.0135</td>\n",
       "      <td>0</td>\n",
       "      <td>6KuQTIu1KoTTkLXKrwlLPV</td>\n",
       "      <td>0.901</td>\n",
       "      <td>8</td>\n",
       "      <td>0.0763</td>\n",
       "      <td>-28.454</td>\n",
       "      <td>1</td>\n",
       "      <td>Fantasiestücke, Op. 111: Più tosto lento</td>\n",
       "      <td>0</td>\n",
       "      <td>1928</td>\n",
       "      <td>0.0462</td>\n",
       "      <td>83.972</td>\n",
       "      <td>0.0767</td>\n",
       "      <td>1928</td>\n",
       "      <td>before_21st_century</td>\n",
       "    </tr>\n",
       "    <tr>\n",
       "      <th>2</th>\n",
       "      <td>0.604</td>\n",
       "      <td>['Seweryn Goszczyński']</td>\n",
       "      <td>0.749</td>\n",
       "      <td>104300</td>\n",
       "      <td>0.2200</td>\n",
       "      <td>0</td>\n",
       "      <td>6L63VW0PibdM1HDSBoqnoM</td>\n",
       "      <td>0.000</td>\n",
       "      <td>5</td>\n",
       "      <td>0.1190</td>\n",
       "      <td>-19.924</td>\n",
       "      <td>0</td>\n",
       "      <td>Chapter 1.18 - Zamek kaniowski</td>\n",
       "      <td>0</td>\n",
       "      <td>1928</td>\n",
       "      <td>0.9290</td>\n",
       "      <td>107.177</td>\n",
       "      <td>0.8800</td>\n",
       "      <td>1928</td>\n",
       "      <td>before_21st_century</td>\n",
       "    </tr>\n",
       "    <tr>\n",
       "      <th>3</th>\n",
       "      <td>0.995</td>\n",
       "      <td>['Francisco Canaro']</td>\n",
       "      <td>0.781</td>\n",
       "      <td>180760</td>\n",
       "      <td>0.1300</td>\n",
       "      <td>0</td>\n",
       "      <td>6M94FkXd15sOAOQYRnWPN8</td>\n",
       "      <td>0.887</td>\n",
       "      <td>1</td>\n",
       "      <td>0.1110</td>\n",
       "      <td>-14.734</td>\n",
       "      <td>0</td>\n",
       "      <td>Bebamos Juntos - Instrumental (Remasterizado)</td>\n",
       "      <td>0</td>\n",
       "      <td>1928-09-25</td>\n",
       "      <td>0.0926</td>\n",
       "      <td>108.003</td>\n",
       "      <td>0.7200</td>\n",
       "      <td>1928</td>\n",
       "      <td>before_21st_century</td>\n",
       "    </tr>\n",
       "    <tr>\n",
       "      <th>4</th>\n",
       "      <td>0.990</td>\n",
       "      <td>['Frédéric Chopin', 'Vladimir Horowitz']</td>\n",
       "      <td>0.210</td>\n",
       "      <td>687733</td>\n",
       "      <td>0.2040</td>\n",
       "      <td>0</td>\n",
       "      <td>6N6tiFZ9vLTSOIxkj8qKrd</td>\n",
       "      <td>0.908</td>\n",
       "      <td>11</td>\n",
       "      <td>0.0980</td>\n",
       "      <td>-16.829</td>\n",
       "      <td>1</td>\n",
       "      <td>Polonaise-Fantaisie in A-Flat Major, Op. 61</td>\n",
       "      <td>1</td>\n",
       "      <td>1928</td>\n",
       "      <td>0.0424</td>\n",
       "      <td>62.149</td>\n",
       "      <td>0.0693</td>\n",
       "      <td>1928</td>\n",
       "      <td>before_21st_century</td>\n",
       "    </tr>\n",
       "  </tbody>\n",
       "</table>\n",
       "</div>"
      ],
      "text/plain": [
       "   acousticness                                   artists  danceability  \\\n",
       "0         0.995                       ['Carl Woitschach']         0.708   \n",
       "1         0.994  ['Robert Schumann', 'Vladimir Horowitz']         0.379   \n",
       "2         0.604                   ['Seweryn Goszczyński']         0.749   \n",
       "3         0.995                      ['Francisco Canaro']         0.781   \n",
       "4         0.990  ['Frédéric Chopin', 'Vladimir Horowitz']         0.210   \n",
       "\n",
       "   duration_ms  energy  explicit                      id  instrumentalness  \\\n",
       "0       158648  0.1950         0  6KbQ3uYMLKb5jDxLF7wYDD             0.563   \n",
       "1       282133  0.0135         0  6KuQTIu1KoTTkLXKrwlLPV             0.901   \n",
       "2       104300  0.2200         0  6L63VW0PibdM1HDSBoqnoM             0.000   \n",
       "3       180760  0.1300         0  6M94FkXd15sOAOQYRnWPN8             0.887   \n",
       "4       687733  0.2040         0  6N6tiFZ9vLTSOIxkj8qKrd             0.908   \n",
       "\n",
       "   key  liveness  loudness  mode  \\\n",
       "0   10    0.1510   -12.428     1   \n",
       "1    8    0.0763   -28.454     1   \n",
       "2    5    0.1190   -19.924     0   \n",
       "3    1    0.1110   -14.734     0   \n",
       "4   11    0.0980   -16.829     1   \n",
       "\n",
       "                                            name  popularity release_date  \\\n",
       "0                    Singende Bataillone 1. Teil           0         1928   \n",
       "1       Fantasiestücke, Op. 111: Più tosto lento           0         1928   \n",
       "2                 Chapter 1.18 - Zamek kaniowski           0         1928   \n",
       "3  Bebamos Juntos - Instrumental (Remasterizado)           0   1928-09-25   \n",
       "4    Polonaise-Fantaisie in A-Flat Major, Op. 61           1         1928   \n",
       "\n",
       "   speechiness    tempo  valence  year          years_split  \n",
       "0       0.0506  118.469   0.7790  1928  before_21st_century  \n",
       "1       0.0462   83.972   0.0767  1928  before_21st_century  \n",
       "2       0.9290  107.177   0.8800  1928  before_21st_century  \n",
       "3       0.0926  108.003   0.7200  1928  before_21st_century  \n",
       "4       0.0424   62.149   0.0693  1928  before_21st_century  "
      ]
     },
     "execution_count": 7,
     "metadata": {},
     "output_type": "execute_result"
    }
   ],
   "source": [
    "# create a list of our conditions\n",
    "conditions = [\n",
    "    (data['year'] <= 2000),\n",
    "    (data['year'] >= 2001)\n",
    "    ]\n",
    "\n",
    "# create a list of the values we want to assign for each condition\n",
    "values = ['before_21st_century', 'after_21st_century']\n",
    "\n",
    "# create a new column and use np.select to assign values to it using our lists as arguments\n",
    "data['years_split'] = np.select(conditions, values)\n",
    "\n",
    "# display updated DataFrame\n",
    "data.head()"
   ]
  },
  {
   "cell_type": "markdown",
   "metadata": {},
   "source": [
    "# Plotting Data"
   ]
  },
  {
   "cell_type": "markdown",
   "metadata": {},
   "source": [
    "https://developer.spotify.com/documentation/web-api/reference/tracks/get-audio-features/\n",
    "Danceability describes how suitable a track is for dancing based on a combination of musical elements including tempo, rhythm stability, beat strength, and overall regularity. A value of 0.0 is least danceable and 1.0 is most danceable."
   ]
  },
  {
   "cell_type": "markdown",
   "metadata": {},
   "source": [
    "## All years - danceability"
   ]
  },
  {
   "cell_type": "code",
   "execution_count": 15,
   "metadata": {},
   "outputs": [
    {
     "data": {
      "text/plain": [
       "Text(0, 0.5, 'count')"
      ]
     },
     "execution_count": 15,
     "metadata": {},
     "output_type": "execute_result"
    },
    {
     "data": {
      "image/png": "[encoded data removed]",
      "text/plain": [
       "<Figure size 432x288 with 1 Axes>"
      ]
     },
     "metadata": {
      "needs_background": "light"
     },
     "output_type": "display_data"
    }
   ],
   "source": [
    "plt.hist(data['danceability'], bins=50)\n",
    "plt.title('Histogram All Years')\n",
    "plt.xlabel('danceability')\n",
    "plt.ylabel('count')"
   ]
  },
  {
   "cell_type": "markdown",
   "metadata": {},
   "source": [
    "## Before 21st Century - danceability"
   ]
  },
  {
   "cell_type": "code",
   "execution_count": 16,
   "metadata": {},
   "outputs": [
    {
     "data": {
      "text/plain": [
       "Text(0, 0.5, 'count')"
      ]
     },
     "execution_count": 16,
     "metadata": {},
     "output_type": "execute_result"
    },
    {
     "data": {
      "image/png": "[encoded data removed]",
      "text/plain": [
       "<Figure size 432x288 with 1 Axes>"
      ]
     },
     "metadata": {
      "needs_background": "light"
     },
     "output_type": "display_data"
    }
   ],
   "source": [
    "plt.hist(before_twentyfirst_century['danceability'], bins=50)\n",
    "plt.title('Histogram Before 21 Century')\n",
    "plt.xlabel('danceability')\n",
    "plt.ylabel('count')"
   ]
  },
  {
   "cell_type": "markdown",
   "metadata": {},
   "source": [
    "## After 21st Century - danceability"
   ]
  },
  {
   "cell_type": "code",
   "execution_count": 17,
   "metadata": {},
   "outputs": [
    {
     "data": {
      "text/plain": [
       "Text(0, 0.5, 'count')"
      ]
     },
     "execution_count": 17,
     "metadata": {},
     "output_type": "execute_result"
    },
    {
     "data": {
      "image/png": "[encoded data removed]",
      "text/plain": [
       "<Figure size 432x288 with 1 Axes>"
      ]
     },
     "metadata": {
      "needs_background": "light"
     },
     "output_type": "display_data"
    }
   ],
   "source": [
    "plt.hist(after_twentyfirst_century['danceability'], bins=50)\n",
    "plt.title('Histogram After 21 Century')\n",
    "plt.xlabel('danceability')\n",
    "plt.ylabel('count')"
   ]
  },
  {
   "cell_type": "markdown",
   "metadata": {},
   "source": [
    "## Before and After 21st Century - danceability"
   ]
  },
  {
   "cell_type": "code",
   "execution_count": 52,
   "metadata": {},
   "outputs": [
    {
     "data": {
      "text/plain": [
       "<matplotlib.legend.Legend at 0x7ff52d154e20>"
      ]
     },
     "execution_count": 52,
     "metadata": {},
     "output_type": "execute_result"
    },
    {
     "data": {
      "image/png": "[encoded data removed]",
      "text/plain": [
       "<Figure size 432x288 with 1 Axes>"
      ]
     },
     "metadata": {
      "needs_background": "light"
     },
     "output_type": "display_data"
    }
   ],
   "source": [
    "plt.hist(before_twentyfirst_century['danceability'], label=\"before 21st century\", bins=50)\n",
    "plt.hist(after_twentyfirst_century['danceability'], label=\"after 21st century\", bins=50)\n",
    "plt.title('Histograms Before & After 21 Century')\n",
    "plt.xlabel('danceability')\n",
    "plt.ylabel('count')\n",
    "# Create a legend for the first line.\n",
    "plt.legend(loc=\"upper left\")"
   ]
  },
  {
   "cell_type": "markdown",
   "metadata": {},
   "source": [
    "## Statistics - danceability"
   ]
  },
  {
   "cell_type": "code",
   "execution_count": 41,
   "metadata": {},
   "outputs": [
    {
     "name": "stdout",
     "output_type": "stream",
     "text": [
      "Mean before_twentyfirst_century is : 0.5219607402516641\n",
      "Mode before_twentyfirst_century is : 0.565\n",
      "Standard deviation before_twentyfirst_century is : 0.1728012925267565\n",
      "Variance before_twentyfirst_century is : 0.029860286698917674\n",
      "\n",
      "Mean after_twentyfirst_century is : 0.5913235828121848\n",
      "Mode after_twentyfirst_century is : 0.606\n",
      "Standard deviation after_twentyfirst_century is : 0.17311339114451327\n",
      "Variance after_twentyfirst_century is : 0.029968246193553247\n"
     ]
    }
   ],
   "source": [
    "x = statistics.mean(before_twentyfirst_century['danceability'])\n",
    "y = statistics.mode(before_twentyfirst_century['danceability']) \n",
    "std = statistics.stdev(before_twentyfirst_century['danceability'])\n",
    "var = statistics.variance(before_twentyfirst_century['danceability'])\n",
    "\n",
    "x2 = statistics.mean(after_twentyfirst_century['danceability'])\n",
    "y2 = statistics.mode(after_twentyfirst_century['danceability']) \n",
    "std2 = statistics.stdev(after_twentyfirst_century['danceability'])\n",
    "var2 = statistics.variance(after_twentyfirst_century['danceability'])\n",
    "  \n",
    "# Printing the mean \n",
    "print(\"Mean before_twentyfirst_century is :\", x) \n",
    "\n",
    "# Printing the mode \n",
    "print(\"Mode before_twentyfirst_century is :\", y) \n",
    "\n",
    "# Printing the standard deviation \n",
    "print(\"Standard deviation before_twentyfirst_century is :\", std) \n",
    "\n",
    "# Printing the sample variance \n",
    "print(\"Variance before_twentyfirst_century is :\", var) \n",
    "\n",
    "print()\n",
    "\n",
    "# Printing the mean \n",
    "print(\"Mean after_twentyfirst_century is :\", x2) \n",
    "\n",
    "# Printing the mode \n",
    "print(\"Mode after_twentyfirst_century is :\", y2) \n",
    "\n",
    "# Printing the standard deviation \n",
    "print(\"Standard deviation after_twentyfirst_century is :\", std2)  \n",
    "\n",
    "# Printing the sample variance \n",
    "print(\"Variance after_twentyfirst_century is :\", var2) "
   ]
  },
  {
   "cell_type": "markdown",
   "metadata": {},
   "source": [
    "https://developer.spotify.com/documentation/web-api/reference/tracks/get-audio-features/\n",
    "Energy is a measure from 0.0 to 1.0 and represents a perceptual measure of intensity and activity. Typically, energetic tracks feel fast, loud, and noisy. For example, death metal has high energy, while a Bach prelude scores low on the scale. Perceptual features contributing to this attribute include dynamic range, perceived loudness, timbre, onset rate, and general entropy."
   ]
  },
  {
   "cell_type": "markdown",
   "metadata": {},
   "source": [
    "## All years - energy"
   ]
  },
  {
   "cell_type": "code",
   "execution_count": 32,
   "metadata": {},
   "outputs": [
    {
     "data": {
      "text/plain": [
       "Text(0, 0.5, 'count')"
      ]
     },
     "execution_count": 32,
     "metadata": {},
     "output_type": "execute_result"
    },
    {
     "data": {
      "image/png": "[encoded data removed]",
      "text/plain": [
       "<Figure size 432x288 with 1 Axes>"
      ]
     },
     "metadata": {
      "needs_background": "light"
     },
     "output_type": "display_data"
    }
   ],
   "source": [
    "plt.hist(data['energy'], bins=50)\n",
    "plt.title('Histogram All Years')\n",
    "plt.xlabel('energy')\n",
    "plt.ylabel('count')"
   ]
  },
  {
   "cell_type": "markdown",
   "metadata": {},
   "source": [
    "## Before 21st Century - energy"
   ]
  },
  {
   "cell_type": "code",
   "execution_count": 31,
   "metadata": {},
   "outputs": [
    {
     "data": {
      "text/plain": [
       "Text(0, 0.5, 'count')"
      ]
     },
     "execution_count": 31,
     "metadata": {},
     "output_type": "execute_result"
    },
    {
     "data": {
      "image/png": "[encoded data removed]",
      "text/plain": [
       "<Figure size 432x288 with 1 Axes>"
      ]
     },
     "metadata": {
      "needs_background": "light"
     },
     "output_type": "display_data"
    }
   ],
   "source": [
    "plt.hist(before_twentyfirst_century['energy'], bins=50)\n",
    "plt.title('Histogram Before 21 Century')\n",
    "plt.xlabel('energy')\n",
    "plt.ylabel('count')"
   ]
  },
  {
   "cell_type": "markdown",
   "metadata": {},
   "source": [
    "## After 21st Century - energy"
   ]
  },
  {
   "cell_type": "code",
   "execution_count": 30,
   "metadata": {},
   "outputs": [
    {
     "data": {
      "text/plain": [
       "Text(0, 0.5, 'count')"
      ]
     },
     "execution_count": 30,
     "metadata": {},
     "output_type": "execute_result"
    },
    {
     "data": {
      "image/png": "[encoded data removed]",
      "text/plain": [
       "<Figure size 432x288 with 1 Axes>"
      ]
     },
     "metadata": {
      "needs_background": "light"
     },
     "output_type": "display_data"
    }
   ],
   "source": [
    "plt.hist(after_twentyfirst_century['energy'], bins=50)\n",
    "plt.title('Histogram After 21 Century')\n",
    "plt.xlabel('energy')\n",
    "plt.ylabel('count')"
   ]
  },
  {
   "cell_type": "markdown",
   "metadata": {},
   "source": [
    "## Before and After 21st Century - energy"
   ]
  },
  {
   "cell_type": "code",
   "execution_count": 53,
   "metadata": {},
   "outputs": [
    {
     "data": {
      "text/plain": [
       "<matplotlib.legend.Legend at 0x7ff52d7ba1f0>"
      ]
     },
     "execution_count": 53,
     "metadata": {},
     "output_type": "execute_result"
    },
    {
     "data": {
      "image/png": "[encoded data removed]",
      "text/plain": [
       "<Figure size 432x288 with 1 Axes>"
      ]
     },
     "metadata": {
      "needs_background": "light"
     },
     "output_type": "display_data"
    }
   ],
   "source": [
    "plt.hist(before_twentyfirst_century['energy'], label=\"before 21st century\", bins=50)\n",
    "plt.hist(after_twentyfirst_century['energy'], label=\"after 21st century\", bins=50)\n",
    "plt.title('Histograms Before & After 21 Century')\n",
    "plt.xlabel('energy')\n",
    "plt.ylabel('count')\n",
    "# Create a legend for the first line.\n",
    "plt.legend(loc=\"upper right\")"
   ]
  },
  {
   "cell_type": "markdown",
   "metadata": {},
   "source": [
    "## Statistics - energy"
   ]
  },
  {
   "cell_type": "code",
   "execution_count": 43,
   "metadata": {},
   "outputs": [
    {
     "name": "stdout",
     "output_type": "stream",
     "text": [
      "Mean before_twentyfirst_century is : 0.4408533988576079\n",
      "Mode before_twentyfirst_century is : 0.254\n",
      "Standard deviation before_twentyfirst_century is : 0.2611247388522397\n",
      "Variance after_twentyfirst_century is : 0.06818612924065039\n",
      "\n",
      "Mean after_twentyfirst_century is : 0.645397731112568\n",
      "Mode after_twentyfirst_century is : 0.726\n",
      "Standard deviation after_twentyfirst_century is : 0.22427906521983745\n",
      "Variance after_twentyfirst_century is : 0.05030109909588411\n"
     ]
    }
   ],
   "source": [
    "x = statistics.mean(before_twentyfirst_century['energy'])\n",
    "y = statistics.mode(before_twentyfirst_century['energy']) \n",
    "std = statistics.stdev(before_twentyfirst_century['energy']) \n",
    "var = statistics.variance(before_twentyfirst_century['energy'])\n",
    "\n",
    "x2 = statistics.mean(after_twentyfirst_century['energy'])\n",
    "y2 = statistics.mode(after_twentyfirst_century['energy']) \n",
    "std2 = statistics.stdev(after_twentyfirst_century['energy']) \n",
    "var2 = statistics.variance(after_twentyfirst_century['energy'])\n",
    "  \n",
    "# Printing the mean \n",
    "print(\"Mean before_twentyfirst_century is :\", x) \n",
    "\n",
    "# Printing the mode \n",
    "print(\"Mode before_twentyfirst_century is :\", y) \n",
    "\n",
    "# Printing the standard deviation \n",
    "print(\"Standard deviation before_twentyfirst_century is :\", std) \n",
    "\n",
    "# Printing the sample variance \n",
    "print(\"Variance after_twentyfirst_century is :\", var) \n",
    "\n",
    "print()\n",
    "\n",
    "# Printing the mean \n",
    "print(\"Mean after_twentyfirst_century is :\", x2) \n",
    "\n",
    "# Printing the mode \n",
    "print(\"Mode after_twentyfirst_century is :\", y2) \n",
    "\n",
    "# Printing the standard deviation \n",
    "print(\"Standard deviation after_twentyfirst_century is :\", std2)  \n",
    "\n",
    "# Printing the sample variance \n",
    "print(\"Variance after_twentyfirst_century is :\", var2) "
   ]
  },
  {
   "cell_type": "markdown",
   "metadata": {},
   "source": [
    "Wikipedia - Acoustic music is music that solely or primarily uses instruments that produce sound through acoustic means, as opposed to electric or electronic means.\n",
    "\n",
    "https://developer.spotify.com/documentation/web-api/reference/tracks/get-audio-features/\n",
    "float\tA confidence measure from 0.0 to 1.0 of whether the track is acoustic. 1.0 represents high confidence the track is acoustic. The distribution of values for this feature look like this:"
   ]
  },
  {
   "cell_type": "markdown",
   "metadata": {},
   "source": [
    "## All years - acousticness"
   ]
  },
  {
   "cell_type": "code",
   "execution_count": 71,
   "metadata": {},
   "outputs": [
    {
     "data": {
      "text/plain": [
       "Text(0, 0.5, 'count')"
      ]
     },
     "execution_count": 71,
     "metadata": {},
     "output_type": "execute_result"
    },
    {
     "data": {
      "image/png": "[encoded data removed]",
      "text/plain": [
       "<Figure size 432x288 with 1 Axes>"
      ]
     },
     "metadata": {
      "needs_background": "light"
     },
     "output_type": "display_data"
    }
   ],
   "source": [
    "plt.hist(data['acousticness'], bins=50)\n",
    "plt.title('Histogram All Years')\n",
    "plt.xlabel('acousticness')\n",
    "plt.ylabel('count')"
   ]
  },
  {
   "cell_type": "markdown",
   "metadata": {},
   "source": [
    "## Before 21st Century - acousticness"
   ]
  },
  {
   "cell_type": "code",
   "execution_count": 72,
   "metadata": {},
   "outputs": [
    {
     "data": {
      "text/plain": [
       "Text(0, 0.5, 'count')"
      ]
     },
     "execution_count": 72,
     "metadata": {},
     "output_type": "execute_result"
    },
    {
     "data": {
      "image/png": "[encoded data removed]",
      "text/plain": [
       "<Figure size 432x288 with 1 Axes>"
      ]
     },
     "metadata": {
      "needs_background": "light"
     },
     "output_type": "display_data"
    }
   ],
   "source": [
    "plt.hist(before_twentyfirst_century['acousticness'], bins=50)\n",
    "plt.title('Histogram Before 21 Century')\n",
    "plt.xlabel('acousticness')\n",
    "plt.ylabel('count')"
   ]
  },
  {
   "cell_type": "markdown",
   "metadata": {},
   "source": [
    "## After 21st Century - acousticness"
   ]
  },
  {
   "cell_type": "code",
   "execution_count": 73,
   "metadata": {},
   "outputs": [
    {
     "data": {
      "text/plain": [
       "Text(0, 0.5, 'count')"
      ]
     },
     "execution_count": 73,
     "metadata": {},
     "output_type": "execute_result"
    },
    {
     "data": {
      "image/png": "[encoded data removed]",
      "text/plain": [
       "<Figure size 432x288 with 1 Axes>"
      ]
     },
     "metadata": {
      "needs_background": "light"
     },
     "output_type": "display_data"
    }
   ],
   "source": [
    "plt.hist(after_twentyfirst_century['acousticness'], bins=50)\n",
    "plt.title('Histogram After 21 Century')\n",
    "plt.xlabel('acousticness')\n",
    "plt.ylabel('count')"
   ]
  },
  {
   "cell_type": "markdown",
   "metadata": {},
   "source": [
    "## Before and After 21st Century - acousticness"
   ]
  },
  {
   "cell_type": "code",
   "execution_count": 54,
   "metadata": {},
   "outputs": [
    {
     "data": {
      "text/plain": [
       "<matplotlib.legend.Legend at 0x7ff52dd1f670>"
      ]
     },
     "execution_count": 54,
     "metadata": {},
     "output_type": "execute_result"
    },
    {
     "data": {
      "image/png": "[encoded data removed]",
      "text/plain": [
       "<Figure size 432x288 with 1 Axes>"
      ]
     },
     "metadata": {
      "needs_background": "light"
     },
     "output_type": "display_data"
    }
   ],
   "source": [
    "plt.hist(before_twentyfirst_century['acousticness'], label=\"before 21st century\", bins=50)\n",
    "plt.hist(after_twentyfirst_century['acousticness'], label=\"after 21st century\", bins=50)\n",
    "plt.title('Histograms Before & After 21 Century')\n",
    "plt.xlabel('acousticness')\n",
    "plt.ylabel('count')\n",
    "# Create a legend for the first line.\n",
    "plt.legend(loc=\"upper left\")"
   ]
  },
  {
   "cell_type": "code",
   "execution_count": 44,
   "metadata": {},
   "outputs": [
    {
     "name": "stdout",
     "output_type": "stream",
     "text": [
      "Mean before_twentyfirst_century is : 0.5656009429295294\n",
      "Mode before_twentyfirst_century is : 0.995\n",
      "Standard deviation before_twentyfirst_century is : 0.3699640255190495\n",
      "Variance after_twentyfirst_century is : 0.13687338017825992\n",
      "\n",
      "Mean after_twentyfirst_century is : 0.25545374859415976\n",
      "Mode after_twentyfirst_century is : 0.114\n",
      "Standard deviation after_twentyfirst_century is : 0.2906004053557042\n",
      "Variance after_twentyfirst_century is : 0.08444859559289958\n"
     ]
    }
   ],
   "source": [
    "x = statistics.mean(before_twentyfirst_century['acousticness'])\n",
    "y = statistics.mode(before_twentyfirst_century['acousticness']) \n",
    "std = statistics.stdev(before_twentyfirst_century['acousticness']) \n",
    "var = statistics.variance(before_twentyfirst_century['acousticness'])\n",
    "\n",
    "x2 = statistics.mean(after_twentyfirst_century['acousticness'])\n",
    "y2 = statistics.mode(after_twentyfirst_century['acousticness']) \n",
    "std2 = statistics.stdev(after_twentyfirst_century['acousticness']) \n",
    "var2 = statistics.variance(after_twentyfirst_century['acousticness'])\n",
    "  \n",
    "# Printing the mean \n",
    "print(\"Mean before_twentyfirst_century is :\", x) \n",
    "\n",
    "# Printing the mode \n",
    "print(\"Mode before_twentyfirst_century is :\", y) \n",
    "\n",
    "# Printing the standard deviation \n",
    "print(\"Standard deviation before_twentyfirst_century is :\", std) \n",
    "\n",
    "# Printing the sample variance \n",
    "print(\"Variance after_twentyfirst_century is :\", var) \n",
    "\n",
    "print()\n",
    "\n",
    "# Printing the mean \n",
    "print(\"Mean after_twentyfirst_century is :\", x2) \n",
    "\n",
    "# Printing the mode \n",
    "print(\"Mode after_twentyfirst_century is :\", y2) \n",
    "\n",
    "# Printing the standard deviation \n",
    "print(\"Standard deviation after_twentyfirst_century is :\", std2)  \n",
    "\n",
    "# Printing the sample variance \n",
    "print(\"Variance after_twentyfirst_century is :\", var2) "
   ]
  },
  {
   "cell_type": "markdown",
   "metadata": {},
   "source": [
    "https://developer.spotify.com/documentation/web-api/reference/tracks/get-audio-features/\n",
    "\n",
    "instrumentalness:\n",
    "\n",
    "Predicts whether a track contains no vocals. “Ooh” and “aah” sounds are treated as instrumental in this context. Rap or spoken word tracks are clearly “vocal”. The closer the instrumentalness value is to 1.0, the greater likelihood the track contains no vocal content. Values above 0.5 are intended to represent instrumental tracks, but confidence is higher as the value approaches 1.0."
   ]
  },
  {
   "cell_type": "markdown",
   "metadata": {},
   "source": [
    "## All years - intrumentalness"
   ]
  },
  {
   "cell_type": "code",
   "execution_count": 75,
   "metadata": {},
   "outputs": [
    {
     "data": {
      "text/plain": [
       "Text(0, 0.5, 'count')"
      ]
     },
     "execution_count": 75,
     "metadata": {},
     "output_type": "execute_result"
    },
    {
     "data": {
      "image/png": "[encoded data removed]",
      "text/plain": [
       "<Figure size 432x288 with 1 Axes>"
      ]
     },
     "metadata": {
      "needs_background": "light"
     },
     "output_type": "display_data"
    }
   ],
   "source": [
    "plt.hist(data['instrumentalness'], bins=50)\n",
    "plt.title('Histogram All Years')\n",
    "plt.xlabel('instrumentalness')\n",
    "plt.ylabel('count')"
   ]
  },
  {
   "cell_type": "markdown",
   "metadata": {},
   "source": [
    "## Before 21st Century - instrumentalness"
   ]
  },
  {
   "cell_type": "code",
   "execution_count": 76,
   "metadata": {},
   "outputs": [
    {
     "data": {
      "text/plain": [
       "Text(0, 0.5, 'count')"
      ]
     },
     "execution_count": 76,
     "metadata": {},
     "output_type": "execute_result"
    },
    {
     "data": {
      "image/png": "[encoded data removed]",
      "text/plain": [
       "<Figure size 432x288 with 1 Axes>"
      ]
     },
     "metadata": {
      "needs_background": "light"
     },
     "output_type": "display_data"
    }
   ],
   "source": [
    "plt.hist(before_twentyfirst_century['instrumentalness'], bins=50)\n",
    "plt.title('Histogram Before 21 Century')\n",
    "plt.xlabel('instrumentalness')\n",
    "plt.ylabel('count')"
   ]
  },
  {
   "cell_type": "markdown",
   "metadata": {},
   "source": [
    "## After 21st Century - instrumentalness"
   ]
  },
  {
   "cell_type": "code",
   "execution_count": 77,
   "metadata": {},
   "outputs": [
    {
     "data": {
      "text/plain": [
       "Text(0, 0.5, 'count')"
      ]
     },
     "execution_count": 77,
     "metadata": {},
     "output_type": "execute_result"
    },
    {
     "data": {
      "image/png": "[encoded data removed]",
      "text/plain": [
       "<Figure size 432x288 with 1 Axes>"
      ]
     },
     "metadata": {
      "needs_background": "light"
     },
     "output_type": "display_data"
    }
   ],
   "source": [
    "plt.hist(after_twentyfirst_century['instrumentalness'], bins=50)\n",
    "plt.title('Histogram After 21 Century')\n",
    "plt.xlabel('instrumentalness')\n",
    "plt.ylabel('count')"
   ]
  },
  {
   "cell_type": "markdown",
   "metadata": {},
   "source": [
    "## Before and After 21st Century - instrumentalness"
   ]
  },
  {
   "cell_type": "code",
   "execution_count": 55,
   "metadata": {},
   "outputs": [
    {
     "data": {
      "text/plain": [
       "<matplotlib.legend.Legend at 0x7ff52e2901c0>"
      ]
     },
     "execution_count": 55,
     "metadata": {},
     "output_type": "execute_result"
    },
    {
     "data": {
      "image/png": "[encoded data removed]",
      "text/plain": [
       "<Figure size 432x288 with 1 Axes>"
      ]
     },
     "metadata": {
      "needs_background": "light"
     },
     "output_type": "display_data"
    }
   ],
   "source": [
    "plt.hist(before_twentyfirst_century['instrumentalness'], label=\"before 21st century\", bins=50)\n",
    "plt.hist(after_twentyfirst_century['instrumentalness'], label=\"after 21st century\", bins=50)\n",
    "plt.title('Histograms Before & After 21 Century')\n",
    "plt.xlabel('instrumentalness')\n",
    "plt.ylabel('count')\n",
    "# Create a legend for the first line.\n",
    "plt.legend(loc=\"upper right\")"
   ]
  },
  {
   "cell_type": "markdown",
   "metadata": {},
   "source": [
    "## Statistics - instrumentalness"
   ]
  },
  {
   "cell_type": "code",
   "execution_count": 61,
   "metadata": {},
   "outputs": [
    {
     "name": "stdout",
     "output_type": "stream",
     "text": [
      "Mean before_twentyfirst_century is : 0.1895102586012606\n",
      "Mode before_twentyfirst_century is : 0.0\n",
      "Standard deviation before_twentyfirst_century is : 0.32708914879603296\n",
      "Variance before_twentyfirst_century is : 0.10698731126011339\n",
      "\n",
      "Mean after_twentyfirst_century is : 0.07137125126084325\n",
      "Mode after_twentyfirst_century is : 0.0\n",
      "Standard deviation after_twentyfirst_century is : 0.21877183268195707\n",
      "Variance after_twentyfirst_century is : 0.04786111477502222\n"
     ]
    }
   ],
   "source": [
    "x = statistics.mean(before_twentyfirst_century['instrumentalness'])\n",
    "y = statistics.mode(before_twentyfirst_century['instrumentalness']) \n",
    "std = statistics.stdev(before_twentyfirst_century['instrumentalness'])\n",
    "var = statistics.variance(before_twentyfirst_century['instrumentalness'])\n",
    "\n",
    "x2 = statistics.mean(after_twentyfirst_century['instrumentalness'])\n",
    "y2 = statistics.mode(after_twentyfirst_century['instrumentalness']) \n",
    "std2 = statistics.stdev(after_twentyfirst_century['instrumentalness'])\n",
    "var2 = statistics.variance(after_twentyfirst_century['instrumentalness'])\n",
    "  \n",
    "# Printing the mean \n",
    "print(\"Mean before_twentyfirst_century is :\", x) \n",
    "\n",
    "# Printing the mode \n",
    "print(\"Mode before_twentyfirst_century is :\", y) \n",
    "\n",
    "# Printing the standard deviation \n",
    "print(\"Standard deviation before_twentyfirst_century is :\", std) \n",
    "\n",
    "# Printing the sample variance \n",
    "print(\"Variance before_twentyfirst_century is :\", var) \n",
    "\n",
    "print()\n",
    "\n",
    "# Printing the mean \n",
    "print(\"Mean after_twentyfirst_century is :\", x2) \n",
    "\n",
    "# Printing the mode \n",
    "print(\"Mode after_twentyfirst_century is :\", y2) \n",
    "\n",
    "# Printing the standard deviation \n",
    "print(\"Standard deviation after_twentyfirst_century is :\", std2)  \n",
    "\n",
    "# Printing the sample variance \n",
    "print(\"Variance after_twentyfirst_century is :\", var2) "
   ]
  },
  {
   "cell_type": "markdown",
   "metadata": {},
   "source": [
    "Valence:\n",
    "\n",
    "https://developer.spotify.com/documentation/web-api/reference/tracks/get-audio-features/\n",
    "A measure from 0.0 to 1.0 describing the musical positiveness conveyed by a track. Tracks with high valence sound more positive (e.g. happy, cheerful, euphoric), while tracks with low valence sound more negative (e.g. sad, depressed, angry)."
   ]
  },
  {
   "cell_type": "markdown",
   "metadata": {},
   "source": [
    "## All years - valence"
   ]
  },
  {
   "cell_type": "code",
   "execution_count": 79,
   "metadata": {},
   "outputs": [
    {
     "data": {
      "text/plain": [
       "Text(0, 0.5, 'count')"
      ]
     },
     "execution_count": 79,
     "metadata": {},
     "output_type": "execute_result"
    },
    {
     "data": {
      "image/png": "[encoded data removed]",
      "text/plain": [
       "<Figure size 432x288 with 1 Axes>"
      ]
     },
     "metadata": {
      "needs_background": "light"
     },
     "output_type": "display_data"
    }
   ],
   "source": [
    "plt.hist(data['valence'], bins=50)\n",
    "plt.title('Histogram All Years')\n",
    "plt.xlabel('valence')\n",
    "plt.ylabel('count')"
   ]
  },
  {
   "cell_type": "markdown",
   "metadata": {},
   "source": [
    "## Before 21st Century - valence"
   ]
  },
  {
   "cell_type": "code",
   "execution_count": 80,
   "metadata": {},
   "outputs": [
    {
     "data": {
      "text/plain": [
       "Text(0, 0.5, 'count')"
      ]
     },
     "execution_count": 80,
     "metadata": {},
     "output_type": "execute_result"
    },
    {
     "data": {
      "image/png": "[encoded data removed]",
      "text/plain": [
       "<Figure size 432x288 with 1 Axes>"
      ]
     },
     "metadata": {
      "needs_background": "light"
     },
     "output_type": "display_data"
    }
   ],
   "source": [
    "plt.hist(before_twentyfirst_century['valence'], bins=50)\n",
    "plt.title('Histogram Before 21 Century')\n",
    "plt.xlabel('valence')\n",
    "plt.ylabel('count')"
   ]
  },
  {
   "cell_type": "markdown",
   "metadata": {},
   "source": [
    "## After 21st Century - valence"
   ]
  },
  {
   "cell_type": "code",
   "execution_count": 81,
   "metadata": {},
   "outputs": [
    {
     "data": {
      "text/plain": [
       "Text(0, 0.5, 'count')"
      ]
     },
     "execution_count": 81,
     "metadata": {},
     "output_type": "execute_result"
    },
    {
     "data": {
      "image/png": "[encoded data removed]",
      "text/plain": [
       "<Figure size 432x288 with 1 Axes>"
      ]
     },
     "metadata": {
      "needs_background": "light"
     },
     "output_type": "display_data"
    }
   ],
   "source": [
    "plt.hist(after_twentyfirst_century['valence'], bins=50)\n",
    "plt.title('Histogram After 21 Century')\n",
    "plt.xlabel('valence')\n",
    "plt.ylabel('count')"
   ]
  },
  {
   "cell_type": "markdown",
   "metadata": {},
   "source": [
    "## Before and After 21st Century - valence"
   ]
  },
  {
   "cell_type": "code",
   "execution_count": 56,
   "metadata": {},
   "outputs": [
    {
     "data": {
      "text/plain": [
       "<matplotlib.legend.Legend at 0x7ff52e799d30>"
      ]
     },
     "execution_count": 56,
     "metadata": {},
     "output_type": "execute_result"
    },
    {
     "data": {
      "image/png": "[encoded data removed]",
      "text/plain": [
       "<Figure size 432x288 with 1 Axes>"
      ]
     },
     "metadata": {
      "needs_background": "light"
     },
     "output_type": "display_data"
    }
   ],
   "source": [
    "plt.hist(before_twentyfirst_century['valence'], label=\"before 21st century\", bins=50)\n",
    "plt.hist(after_twentyfirst_century['valence'], label=\"after 21st century\", bins=50)\n",
    "plt.title('Histograms Before & After 21 Century')\n",
    "plt.xlabel('valence')\n",
    "plt.ylabel('count')\n",
    "# Create a legend for the first line.\n",
    "plt.legend(loc=\"upper left\")"
   ]
  },
  {
   "cell_type": "markdown",
   "metadata": {},
   "source": [
    "## Statistics - valence"
   ]
  },
  {
   "cell_type": "code",
   "execution_count": 72,
   "metadata": {},
   "outputs": [
    {
     "name": "stdout",
     "output_type": "stream",
     "text": [
      "Mean before_twentyfirst_century is : 0.5437286555710809\n",
      "Mode before_twentyfirst_century is : 0.961\n",
      "Standard deviation before_twentyfirst_century is : 0.2652285495381177\n",
      "Variance before_twentyfirst_century is : 0.07034618349009375\n",
      "\n",
      "Mean after_twentyfirst_century is : 0.49388402680552757\n",
      "Mode after_twentyfirst_century is : 0.961\n",
      "Standard deviation after_twentyfirst_century is : 0.24913034658705635\n",
      "Variance after_twentyfirst_century is : 0.06206592959058682\n",
      "\n",
      "The sample mean is : 0.5418949121617591\n",
      "The sample variance is : 0.005031247138840067\n",
      "\n",
      "The sample mean is : 0.4957601384494078\n",
      "The sample variance is : 0.0036108597366569955\n"
     ]
    }
   ],
   "source": [
    "x = statistics.mean(before_twentyfirst_century['valence'])\n",
    "y = statistics.mode(before_twentyfirst_century['valence']) \n",
    "std = statistics.stdev(before_twentyfirst_century['valence'])\n",
    "var = statistics.variance(before_twentyfirst_century['valence'])\n",
    "\n",
    "x2 = statistics.mean(after_twentyfirst_century['valence'])\n",
    "y2 = statistics.mode(after_twentyfirst_century['valence']) \n",
    "std2 = statistics.stdev(after_twentyfirst_century['valence'])\n",
    "var2 = statistics.variance(after_twentyfirst_century['valence'])\n",
    "  \n",
    "# Printing the mean \n",
    "print(\"Mean before_twentyfirst_century is :\", x) \n",
    "\n",
    "# Printing the mode \n",
    "print(\"Mode before_twentyfirst_century is :\", y) \n",
    "\n",
    "# Printing the standard deviation \n",
    "print(\"Standard deviation before_twentyfirst_century is :\", std) \n",
    "\n",
    "# Printing the sample variance \n",
    "print(\"Variance before_twentyfirst_century is :\", var) \n",
    "\n",
    "print()\n",
    "\n",
    "# Printing the mean \n",
    "print(\"Mean after_twentyfirst_century is :\", x2) \n",
    "\n",
    "# Printing the mode \n",
    "print(\"Mode after_twentyfirst_century is :\", y2) \n",
    "\n",
    "# Printing the standard deviation \n",
    "print(\"Standard deviation after_twentyfirst_century is :\", std2)  \n",
    "\n",
    "# Printing the sample variance \n",
    "print(\"Variance after_twentyfirst_century is :\", var2) \n",
    "\n",
    "\n",
    "sample_mean = np.random.normal(x, var, 500)\n",
    "x_bar = sample_mean.mean()\n",
    "\n",
    "sample_var = np.random.normal(x, var, 500)\n",
    "x_var = sample_var.var()\n",
    "\n",
    "\n",
    "\n",
    "sample_mean2 = np.random.normal(x2, var2, 500)\n",
    "x_bar2 = sample_mean2.mean()\n",
    "\n",
    "sample_var2 = np.random.normal(x, var2, 500)\n",
    "x_var2 = sample_var2.var()\n",
    "\n",
    "print()\n",
    "\n",
    "print(\"The sample mean is :\", x_bar)\n",
    "print(\"The sample variance is :\", x_var)\n",
    "print()\n",
    "\n",
    "print(\"The sample mean is :\", x_bar2)\n",
    "print(\"The sample variance is :\", x_var2)"
   ]
  },
  {
   "cell_type": "markdown",
   "metadata": {},
   "source": [
    "# The overall estimated tempo of a track in beats per minute (BPM). In musical terminology, tempo is the speed or pace of a given piece and derives directly from the average beat duration. The distribution of values for this feature look like this:"
   ]
  },
  {
   "cell_type": "markdown",
   "metadata": {},
   "source": [
    "## All years - tempo"
   ]
  },
  {
   "cell_type": "code",
   "execution_count": 6,
   "metadata": {},
   "outputs": [
    {
     "data": {
      "text/plain": [
       "Text(0, 0.5, 'count')"
      ]
     },
     "execution_count": 6,
     "metadata": {},
     "output_type": "execute_result"
    },
    {
     "data": {
      "image/png": "[encoded data removed]",
      "text/plain": [
       "<Figure size 432x288 with 1 Axes>"
      ]
     },
     "metadata": {
      "needs_background": "light"
     },
     "output_type": "display_data"
    }
   ],
   "source": [
    "plt.hist(data['tempo'], bins=100)\n",
    "plt.title('Histogram All Years')\n",
    "plt.xlabel('tempo')\n",
    "plt.ylabel('count')"
   ]
  },
  {
   "cell_type": "markdown",
   "metadata": {},
   "source": [
    "## Before 21st Century - tempo"
   ]
  },
  {
   "cell_type": "code",
   "execution_count": 12,
   "metadata": {},
   "outputs": [
    {
     "data": {
      "text/plain": [
       "Text(0, 0.5, 'count')"
      ]
     },
     "execution_count": 12,
     "metadata": {},
     "output_type": "execute_result"
    },
    {
     "data": {
      "image/png": "[encoded data removed]",
      "text/plain": [
       "<Figure size 432x288 with 1 Axes>"
      ]
     },
     "metadata": {
      "needs_background": "light"
     },
     "output_type": "display_data"
    }
   ],
   "source": [
    "plt.hist(before_twentyfirst_century['tempo'], bins=100)\n",
    "plt.title('Histogram Before 21 Century')\n",
    "plt.xlabel('tempo')\n",
    "plt.ylabel('count')"
   ]
  },
  {
   "cell_type": "markdown",
   "metadata": {},
   "source": [
    "## After 21st Century - tempo"
   ]
  },
  {
   "cell_type": "code",
   "execution_count": 13,
   "metadata": {},
   "outputs": [
    {
     "data": {
      "text/plain": [
       "Text(0, 0.5, 'count')"
      ]
     },
     "execution_count": 13,
     "metadata": {},
     "output_type": "execute_result"
    },
    {
     "data": {
      "image/png": "[encoded data removed]",
      "text/plain": [
       "<Figure size 432x288 with 1 Axes>"
      ]
     },
     "metadata": {
      "needs_background": "light"
     },
     "output_type": "display_data"
    }
   ],
   "source": [
    "plt.hist(after_twentyfirst_century['tempo'], bins=100)\n",
    "plt.title('Histogram After 21 Century')\n",
    "plt.xlabel('tempo')\n",
    "plt.ylabel('count')"
   ]
  },
  {
   "cell_type": "markdown",
   "metadata": {},
   "source": [
    "## Before and After 21st Century - tempo"
   ]
  },
  {
   "cell_type": "code",
   "execution_count": 57,
   "metadata": {},
   "outputs": [
    {
     "data": {
      "text/plain": [
       "<matplotlib.legend.Legend at 0x7ff52ed4c340>"
      ]
     },
     "execution_count": 57,
     "metadata": {},
     "output_type": "execute_result"
    },
    {
     "data": {
      "image/png": "[encoded data removed]",
      "text/plain": [
       "<Figure size 432x288 with 1 Axes>"
      ]
     },
     "metadata": {
      "needs_background": "light"
     },
     "output_type": "display_data"
    }
   ],
   "source": [
    "plt.hist(before_twentyfirst_century['tempo'], label=\"before 21st century\", bins=100)\n",
    "plt.hist(after_twentyfirst_century['tempo'], label=\"after 21st century\", bins=100)\n",
    "plt.title('Histograms Before & After 21 Century')\n",
    "plt.xlabel('tempo')\n",
    "plt.ylabel('count')\n",
    "# Create a legend for the first line.\n",
    "plt.legend(loc=\"upper right\")"
   ]
  },
  {
   "cell_type": "markdown",
   "metadata": {},
   "source": [
    "## Statistics - tempo"
   ]
  },
  {
   "cell_type": "code",
   "execution_count": 65,
   "metadata": {},
   "outputs": [
    {
     "name": "stdout",
     "output_type": "stream",
     "text": [
      "Mean before_twentyfirst_century is : 115.65705430201224\n",
      "Mode before_twentyfirst_century is : 0.0\n",
      "Standard deviation before_twentyfirst_century is : 30.554402237602915\n",
      "Variance before_twentyfirst_century is : 933.571496097234\n",
      "\n",
      "Mean after_twentyfirst_century is : 121.18827894896107\n",
      "Mode after_twentyfirst_century is : 0.0\n",
      "Standard deviation after_twentyfirst_century is : 30.91023886722988\n",
      "Variance after_twentyfirst_century is : 955.4428668292086\n"
     ]
    }
   ],
   "source": [
    "x = statistics.mean(before_twentyfirst_century['tempo'])\n",
    "y = statistics.mode(before_twentyfirst_century['tempo']) \n",
    "std = statistics.stdev(before_twentyfirst_century['tempo'])\n",
    "var = statistics.variance(before_twentyfirst_century['tempo'])\n",
    "\n",
    "x2 = statistics.mean(after_twentyfirst_century['tempo'])\n",
    "y2 = statistics.mode(after_twentyfirst_century['tempo']) \n",
    "std2 = statistics.stdev(after_twentyfirst_century['tempo'])\n",
    "var2 = statistics.variance(after_twentyfirst_century['tempo'])\n",
    "  \n",
    "# Printing the mean \n",
    "print(\"Mean before_twentyfirst_century is :\", x) \n",
    "\n",
    "# Printing the mode \n",
    "print(\"Mode before_twentyfirst_century is :\", y) \n",
    "\n",
    "# Printing the standard deviation \n",
    "print(\"Standard deviation before_twentyfirst_century is :\", std) \n",
    "\n",
    "# Printing the sample variance \n",
    "print(\"Variance before_twentyfirst_century is :\", var) \n",
    "\n",
    "print()\n",
    "\n",
    "# Printing the mean \n",
    "print(\"Mean after_twentyfirst_century is :\", x2) \n",
    "\n",
    "# Printing the mode \n",
    "print(\"Mode after_twentyfirst_century is :\", y2) \n",
    "\n",
    "# Printing the standard deviation \n",
    "print(\"Standard deviation after_twentyfirst_century is :\", std2)  \n",
    "\n",
    "# Printing the sample variance \n",
    "print(\"Variance after_twentyfirst_century is :\", var2) "
   ]
  },
  {
   "cell_type": "markdown",
   "metadata": {},
   "source": [
    "https://developer.spotify.com/documentation/web-api/reference/tracks/get-audio-features/\n",
    "\n",
    "The estimated overall key of the track. Integers map to pitches using standard Pitch Class notation . E.g. 0 = C, 1 = C♯/D♭, 2 = D, and so on. If no key was detected, the value is -1. \n",
    "\n",
    "Insert the \"Pitch Class notation\" chart into the paper and cite it!!!"
   ]
  },
  {
   "cell_type": "markdown",
   "metadata": {},
   "source": [
    "# All years - key"
   ]
  },
  {
   "cell_type": "code",
   "execution_count": 17,
   "metadata": {},
   "outputs": [
    {
     "data": {
      "text/plain": [
       "Text(0, 0.5, 'count')"
      ]
     },
     "execution_count": 17,
     "metadata": {},
     "output_type": "execute_result"
    },
    {
     "data": {
      "image/png": "[encoded data removed]",
      "text/plain": [
       "<Figure size 432x288 with 1 Axes>"
      ]
     },
     "metadata": {
      "needs_background": "light"
     },
     "output_type": "display_data"
    }
   ],
   "source": [
    "plt.hist(data['key'], bins=11)\n",
    "plt.title('Histogram All Years')\n",
    "plt.xlabel('key')\n",
    "plt.ylabel('count')"
   ]
  },
  {
   "cell_type": "markdown",
   "metadata": {},
   "source": [
    "## Before 21st Century - key"
   ]
  },
  {
   "cell_type": "code",
   "execution_count": 18,
   "metadata": {},
   "outputs": [
    {
     "data": {
      "text/plain": [
       "Text(0, 0.5, 'count')"
      ]
     },
     "execution_count": 18,
     "metadata": {},
     "output_type": "execute_result"
    },
    {
     "data": {
      "image/png": "[encoded data removed]",
      "text/plain": [
       "<Figure size 432x288 with 1 Axes>"
      ]
     },
     "metadata": {
      "needs_background": "light"
     },
     "output_type": "display_data"
    }
   ],
   "source": [
    "plt.hist(before_twentyfirst_century['key'], bins=11)\n",
    "plt.title('Histogram Before 21 Century')\n",
    "plt.xlabel('key')\n",
    "plt.ylabel('count')"
   ]
  },
  {
   "cell_type": "markdown",
   "metadata": {},
   "source": [
    "## After 21st Century - key"
   ]
  },
  {
   "cell_type": "code",
   "execution_count": 19,
   "metadata": {},
   "outputs": [
    {
     "data": {
      "text/plain": [
       "Text(0, 0.5, 'count')"
      ]
     },
     "execution_count": 19,
     "metadata": {},
     "output_type": "execute_result"
    },
    {
     "data": {
      "image/png": "[encoded data removed]",
      "text/plain": [
       "<Figure size 432x288 with 1 Axes>"
      ]
     },
     "metadata": {
      "needs_background": "light"
     },
     "output_type": "display_data"
    }
   ],
   "source": [
    "plt.hist(after_twentyfirst_century['key'], bins=11)\n",
    "plt.title('Histogram After 21 Century')\n",
    "plt.xlabel('key')\n",
    "plt.ylabel('count')"
   ]
  },
  {
   "cell_type": "markdown",
   "metadata": {},
   "source": [
    "## Before and After 21st Century - key"
   ]
  },
  {
   "cell_type": "code",
   "execution_count": 59,
   "metadata": {},
   "outputs": [
    {
     "data": {
      "text/plain": [
       "<matplotlib.legend.Legend at 0x7ff52f95b6d0>"
      ]
     },
     "execution_count": 59,
     "metadata": {},
     "output_type": "execute_result"
    },
    {
     "data": {
      "image/png": "[encoded data removed]",
      "text/plain": [
       "<Figure size 432x288 with 1 Axes>"
      ]
     },
     "metadata": {
      "needs_background": "light"
     },
     "output_type": "display_data"
    }
   ],
   "source": [
    "plt.hist(before_twentyfirst_century['key'], label=\"before 21st century\", bins=11)\n",
    "plt.hist(after_twentyfirst_century['key'], label=\"after 21st century\", bins=11)\n",
    "plt.title('Histograms Before & After 21 Century')\n",
    "plt.xlabel('key')\n",
    "plt.ylabel('count')\n",
    "# Create a legend for the first line.\n",
    "plt.legend(loc=\"upper right\")"
   ]
  },
  {
   "cell_type": "markdown",
   "metadata": {},
   "source": [
    "## Statistics - key"
   ]
  },
  {
   "cell_type": "code",
   "execution_count": 66,
   "metadata": {},
   "outputs": [
    {
     "name": "stdout",
     "output_type": "stream",
     "text": [
      "Mean before_twentyfirst_century is : 5.188924631294481\n",
      "Mode before_twentyfirst_century is : 0\n",
      "Standard deviation before_twentyfirst_century is : 3.496380901910159\n",
      "Variance before_twentyfirst_century is : 12.224679411242096\n",
      "\n",
      "Mean after_twentyfirst_century is : 5.238601977002219\n",
      "Mode after_twentyfirst_century is : 0\n",
      "Standard deviation after_twentyfirst_century is : 3.576335268495112\n",
      "Variance after_twentyfirst_century is : 12.790173952682007\n"
     ]
    }
   ],
   "source": [
    "x = statistics.mean(before_twentyfirst_century['key'])\n",
    "y = statistics.mode(before_twentyfirst_century['key']) \n",
    "std = statistics.stdev(before_twentyfirst_century['key'])\n",
    "var = statistics.variance(before_twentyfirst_century['key'])\n",
    "\n",
    "x2 = statistics.mean(after_twentyfirst_century['key'])\n",
    "y2 = statistics.mode(after_twentyfirst_century['key']) \n",
    "std2 = statistics.stdev(after_twentyfirst_century['key'])\n",
    "var2 = statistics.variance(after_twentyfirst_century['key'])\n",
    "  \n",
    "# Printing the mean \n",
    "print(\"Mean before_twentyfirst_century is :\", x) \n",
    "\n",
    "# Printing the mode \n",
    "print(\"Mode before_twentyfirst_century is :\", y) \n",
    "\n",
    "# Printing the standard deviation \n",
    "print(\"Standard deviation before_twentyfirst_century is :\", std) \n",
    "\n",
    "# Printing the sample variance \n",
    "print(\"Variance before_twentyfirst_century is :\", var) \n",
    "\n",
    "print()\n",
    "\n",
    "# Printing the mean \n",
    "print(\"Mean after_twentyfirst_century is :\", x2) \n",
    "\n",
    "# Printing the mode \n",
    "print(\"Mode after_twentyfirst_century is :\", y2) \n",
    "\n",
    "# Printing the standard deviation \n",
    "print(\"Standard deviation after_twentyfirst_century is :\", std2)  \n",
    "\n",
    "# Printing the sample variance \n",
    "print(\"Variance after_twentyfirst_century is :\", var2) "
   ]
  },
  {
   "cell_type": "markdown",
   "metadata": {},
   "source": [
    "\"The overall loudness of a track in decibels (dB). Loudness values are averaged across the entire track and are useful for comparing relative loudness of tracks. Loudness is the quality of a sound that is the primary psychological correlate of physical strength (amplitude). Values typical range between -60 and 0 db. The distribution of values for this feature look like this:\""
   ]
  },
  {
   "cell_type": "markdown",
   "metadata": {},
   "source": [
    "## All years - loudness"
   ]
  },
  {
   "cell_type": "code",
   "execution_count": 9,
   "metadata": {},
   "outputs": [
    {
     "data": {
      "text/plain": [
       "Text(0, 0.5, 'count')"
      ]
     },
     "execution_count": 9,
     "metadata": {},
     "output_type": "execute_result"
    },
    {
     "data": {
      "image/png": "[encoded data removed]",
      "text/plain": [
       "<Figure size 432x288 with 1 Axes>"
      ]
     },
     "metadata": {
      "needs_background": "light"
     },
     "output_type": "display_data"
    }
   ],
   "source": [
    "plt.hist(data['loudness'], bins=100)\n",
    "plt.title('Histogram All Years')\n",
    "plt.xlabel('loudness')\n",
    "plt.ylabel('count')"
   ]
  },
  {
   "cell_type": "markdown",
   "metadata": {},
   "source": [
    "## Before 21st Century - loudness"
   ]
  },
  {
   "cell_type": "code",
   "execution_count": 11,
   "metadata": {},
   "outputs": [
    {
     "data": {
      "text/plain": [
       "Text(0, 0.5, 'count')"
      ]
     },
     "execution_count": 11,
     "metadata": {},
     "output_type": "execute_result"
    },
    {
     "data": {
      "image/png": "[encoded data removed]",
      "text/plain": [
       "<Figure size 432x288 with 1 Axes>"
      ]
     },
     "metadata": {
      "needs_background": "light"
     },
     "output_type": "display_data"
    }
   ],
   "source": [
    "plt.hist(before_twentyfirst_century['loudness'], bins=100)\n",
    "plt.title('Histogram Before 21 Century')\n",
    "plt.xlabel('loudness')\n",
    "plt.ylabel('count')"
   ]
  },
  {
   "cell_type": "markdown",
   "metadata": {},
   "source": [
    "## After 21st Century - loudness "
   ]
  },
  {
   "cell_type": "code",
   "execution_count": 15,
   "metadata": {},
   "outputs": [
    {
     "data": {
      "text/plain": [
       "Text(0, 0.5, 'count')"
      ]
     },
     "execution_count": 15,
     "metadata": {},
     "output_type": "execute_result"
    },
    {
     "data": {
      "image/png": "[encoded data removed]",
      "text/plain": [
       "<Figure size 432x288 with 1 Axes>"
      ]
     },
     "metadata": {
      "needs_background": "light"
     },
     "output_type": "display_data"
    }
   ],
   "source": [
    "plt.hist(after_twentyfirst_century['loudness'], bins=100)\n",
    "plt.title('Histogram After 21 Century')\n",
    "plt.xlabel('loudness')\n",
    "plt.ylabel('count')"
   ]
  },
  {
   "cell_type": "markdown",
   "metadata": {},
   "source": [
    "## Before and After 21st Century - loudness"
   ]
  },
  {
   "cell_type": "code",
   "execution_count": 60,
   "metadata": {},
   "outputs": [
    {
     "data": {
      "text/plain": [
       "<matplotlib.legend.Legend at 0x7ff52c177cd0>"
      ]
     },
     "execution_count": 60,
     "metadata": {},
     "output_type": "execute_result"
    },
    {
     "data": {
      "image/png": "[encoded data removed]",
      "text/plain": [
       "<Figure size 432x288 with 1 Axes>"
      ]
     },
     "metadata": {
      "needs_background": "light"
     },
     "output_type": "display_data"
    }
   ],
   "source": [
    "plt.hist(before_twentyfirst_century['loudness'], label=\"before 21st century\", bins=100)\n",
    "plt.hist(after_twentyfirst_century['loudness'], label=\"after 21st century\", bins=100)\n",
    "plt.title('Histograms Before & After 21 Century')\n",
    "plt.xlabel('loudness')\n",
    "plt.ylabel('count')\n",
    "# Create a legend for the first line.\n",
    "plt.legend(loc=\"upper left\")"
   ]
  },
  {
   "cell_type": "markdown",
   "metadata": {},
   "source": [
    "## Statistics - loudness"
   ]
  },
  {
   "cell_type": "code",
   "execution_count": 67,
   "metadata": {},
   "outputs": [
    {
     "name": "stdout",
     "output_type": "stream",
     "text": [
      "Mean before_twentyfirst_century is : -12.60330601982296\n",
      "Mode before_twentyfirst_century is : -11.815\n",
      "Standard deviation before_twentyfirst_century is : 5.401504194939184\n",
      "Variance before_twentyfirst_century is : 29.176247567945598\n",
      "\n",
      "Mean after_twentyfirst_century is : -7.320356717772847\n",
      "Mode after_twentyfirst_century is : -4.802\n",
      "Standard deviation after_twentyfirst_century is : 4.512260023332647\n",
      "Variance after_twentyfirst_century is : 20.360490518165943\n"
     ]
    }
   ],
   "source": [
    "x = statistics.mean(before_twentyfirst_century['loudness'])\n",
    "y = statistics.mode(before_twentyfirst_century['loudness']) \n",
    "std = statistics.stdev(before_twentyfirst_century['loudness'])\n",
    "var = statistics.variance(before_twentyfirst_century['loudness'])\n",
    "\n",
    "x2 = statistics.mean(after_twentyfirst_century['loudness'])\n",
    "y2 = statistics.mode(after_twentyfirst_century['loudness']) \n",
    "std2 = statistics.stdev(after_twentyfirst_century['loudness'])\n",
    "var2 = statistics.variance(after_twentyfirst_century['loudness'])\n",
    "  \n",
    "# Printing the mean \n",
    "print(\"Mean before_twentyfirst_century is :\", x) \n",
    "\n",
    "# Printing the mode \n",
    "print(\"Mode before_twentyfirst_century is :\", y) \n",
    "\n",
    "# Printing the standard deviation \n",
    "print(\"Standard deviation before_twentyfirst_century is :\", std) \n",
    "\n",
    "# Printing the sample variance \n",
    "print(\"Variance before_twentyfirst_century is :\", var) \n",
    "\n",
    "print()\n",
    "\n",
    "# Printing the mean \n",
    "print(\"Mean after_twentyfirst_century is :\", x2) \n",
    "\n",
    "# Printing the mode \n",
    "print(\"Mode after_twentyfirst_century is :\", y2) \n",
    "\n",
    "# Printing the standard deviation \n",
    "print(\"Standard deviation after_twentyfirst_century is :\", std2)  \n",
    "\n",
    "# Printing the sample variance \n",
    "print(\"Variance after_twentyfirst_century is :\", var2) "
   ]
  },
  {
   "cell_type": "markdown",
   "metadata": {},
   "source": [
    "# Predicting where music will be 50 years from now"
   ]
  },
  {
   "cell_type": "code",
   "execution_count": null,
   "metadata": {},
   "outputs": [],
   "source": []
  }
 ],
 "metadata": {
  "kernelspec": {
   "display_name": "Python 3",
   "language": "python",
   "name": "python3"
  },
  "language_info": {
   "codemirror_mode": {
    "name": "ipython",
    "version": 3
   },
   "file_extension": ".py",
   "mimetype": "text/x-python",
   "name": "python",
   "nbconvert_exporter": "python",
   "pygments_lexer": "ipython3",
   "version": "3.8.3"
  }
 },
 "nbformat": 4,
 "nbformat_minor": 4
}
